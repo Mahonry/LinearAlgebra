{
  "nbformat": 4,
  "nbformat_minor": 0,
  "metadata": {
    "colab": {
      "name": "LinearAlgebra.ipynb",
      "provenance": [],
      "authorship_tag": "ABX9TyMzGYwzlUdz8LCKGLUHslyb",
      "include_colab_link": true
    },
    "kernelspec": {
      "name": "python3",
      "display_name": "Python 3"
    }
  },
  "cells": [
    {
      "cell_type": "markdown",
      "metadata": {
        "id": "view-in-github",
        "colab_type": "text"
      },
      "source": [
        "<a href=\"https://colab.research.google.com/github/Mahonry/LinearAlgebra/blob/master/LinearAlgebra.ipynb\" target=\"_parent\"><img src=\"https://colab.research.google.com/assets/colab-badge.svg\" alt=\"Open In Colab\"/></a>"
      ]
    },
    {
      "cell_type": "markdown",
      "metadata": {
        "id": "h0VDnNh0rgav",
        "colab_type": "text"
      },
      "source": [
        "# Transformaciones Lineales\n",
        "______________________________________________________"
      ]
    },
    {
      "cell_type": "code",
      "metadata": {
        "id": "LMSNF3qgnPLv",
        "colab_type": "code",
        "colab": {}
      },
      "source": [
        "%matplotlib inline\n",
        "import numpy as np\n",
        "import matplotlib.pyplot as plt"
      ],
      "execution_count": 0,
      "outputs": []
    },
    {
      "cell_type": "code",
      "metadata": {
        "id": "6MAovf6en8XE",
        "colab_type": "code",
        "colab": {
          "base_uri": "https://localhost:8080/",
          "height": 51
        },
        "outputId": "340815c9-b3de-4525-b727-ac8d22662e79"
      },
      "source": [
        "A = np.array([[-1, 3], [2,-2]])\n",
        "print(A)"
      ],
      "execution_count": 2,
      "outputs": [
        {
          "output_type": "stream",
          "text": [
            "[[-1  3]\n",
            " [ 2 -2]]\n"
          ],
          "name": "stdout"
        }
      ]
    },
    {
      "cell_type": "code",
      "metadata": {
        "id": "4UP53xfFn9_0",
        "colab_type": "code",
        "colab": {
          "base_uri": "https://localhost:8080/",
          "height": 51
        },
        "outputId": "383c53d3-dc92-4beb-cdac-1f243bdc24b7"
      },
      "source": [
        "vector = np.array([[2],[1]])\n",
        "print(vector)"
      ],
      "execution_count": 3,
      "outputs": [
        {
          "output_type": "stream",
          "text": [
            "[[2]\n",
            " [1]]\n"
          ],
          "name": "stdout"
        }
      ]
    },
    {
      "cell_type": "code",
      "metadata": {
        "id": "WwBaT7GDn_lN",
        "colab_type": "code",
        "colab": {}
      },
      "source": [
        "def graficarVectores(vecs, cols, alpha=1):\n",
        "    plt.axvline(x = 0, color = 'grey', zorder = 0)\n",
        "    plt.axhline(y = 0, color = 'grey', zorder = 0)\n",
        "\n",
        "    for i in range(len(vecs)):\n",
        "      x = np.concatenate([[0,0], vecs[i]])\n",
        "      plt.quiver([x[0]],\n",
        "                 [x[1]],\n",
        "                 [x[2]],\n",
        "                 [x[3]],\n",
        "                 angles = 'xy', scale_units = 'xy',\n",
        "                 scale = 1,\n",
        "                 color = cols[i],\n",
        "                 alpha = alpha\n",
        "                 )"
      ],
      "execution_count": 0,
      "outputs": []
    },
    {
      "cell_type": "code",
      "metadata": {
        "id": "feN_Pl05oBUV",
        "colab_type": "code",
        "colab": {
          "base_uri": "https://localhost:8080/",
          "height": 286
        },
        "outputId": "3ddeb3a7-f841-4197-9488-61f2a5450f94"
      },
      "source": [
        "graficarVectores([vector.flatten()], cols = 'blue')\n",
        "\n",
        "plt.xlim(-0.5, 3)\n",
        "plt.ylim(-0.5, 4)"
      ],
      "execution_count": 19,
      "outputs": [
        {
          "output_type": "execute_result",
          "data": {
            "text/plain": [
              "(-0.5, 4.0)"
            ]
          },
          "metadata": {
            "tags": []
          },
          "execution_count": 19
        },
        {
          "output_type": "display_data",
          "data": {
            "image/png": "[encoded data removed]",
            "text/plain": [
              "<Figure size 432x288 with 1 Axes>"
            ]
          },
          "metadata": {
            "tags": [],
            "needs_background": "light"
          }
        }
      ]
    },
    {
      "cell_type": "code",
      "metadata": {
        "id": "6ey2-IDHqSCy",
        "colab_type": "code",
        "colab": {}
      },
      "source": [
        "vector_tranformado = A.dot(vector)"
      ],
      "execution_count": 0,
      "outputs": []
    },
    {
      "cell_type": "code",
      "metadata": {
        "id": "U6o3Nk7Tq_1W",
        "colab_type": "code",
        "colab": {
          "base_uri": "https://localhost:8080/",
          "height": 286
        },
        "outputId": "ce2e6543-37c3-4a6c-fdf8-061a0afcc19f"
      },
      "source": [
        "graficarVectores([vector.flatten(), vector_tranformado.flatten()], cols = ['blue','orange'])\n",
        "\n",
        "plt.xlim(-0.5, 2.5)\n",
        "plt.ylim(-0.5, 2.5)"
      ],
      "execution_count": 22,
      "outputs": [
        {
          "output_type": "execute_result",
          "data": {
            "text/plain": [
              "(-0.5, 2.5)"
            ]
          },
          "metadata": {
            "tags": []
          },
          "execution_count": 22
        },
        {
          "output_type": "display_data",
          "data": {
            "image/png": "[encoded data removed]",
            "text/plain": [
              "<Figure size 432x288 with 1 Axes>"
            ]
          },
          "metadata": {
            "tags": [],
            "needs_background": "light"
          }
        }
      ]
    },
    {
      "cell_type": "markdown",
      "metadata": {
        "id": "UNfWMlwMsJ1g",
        "colab_type": "text"
      },
      "source": [
        "# Autovalores y autovectores\n",
        "__________________________________________________"
      ]
    },
    {
      "cell_type": "code",
      "metadata": {
        "id": "H19rMdZPrXH9",
        "colab_type": "code",
        "colab": {}
      },
      "source": [
        "orange = \"#FF9A13\"\n",
        "blue = \"#1190FF\""
      ],
      "execution_count": 0,
      "outputs": []
    },
    {
      "cell_type": "code",
      "metadata": {
        "id": "SvHWM8JMsfhz",
        "colab_type": "code",
        "colab": {
          "base_uri": "https://localhost:8080/",
          "height": 51
        },
        "outputId": "db9476fb-7582-4f22-f9f9-181f0afd6dbf"
      },
      "source": [
        "X = np.array([[3,2],[4,1]])\n",
        "print(X)"
      ],
      "execution_count": 28,
      "outputs": [
        {
          "output_type": "stream",
          "text": [
            "[[3 2]\n",
            " [4 1]]\n"
          ],
          "name": "stdout"
        }
      ]
    },
    {
      "cell_type": "code",
      "metadata": {
        "id": "Lm5Blxx32zXi",
        "colab_type": "code",
        "colab": {}
      },
      "source": [
        "v = np.array([[1],[1]])"
      ],
      "execution_count": 0,
      "outputs": []
    },
    {
      "cell_type": "code",
      "metadata": {
        "id": "1_W4ubCj24FC",
        "colab_type": "code",
        "colab": {
          "base_uri": "https://localhost:8080/",
          "height": 51
        },
        "outputId": "9e0018c7-7075-421c-bc33-d20c72b8aaa0"
      },
      "source": [
        "u = X.dot(v)\n",
        "print(u)"
      ],
      "execution_count": 30,
      "outputs": [
        {
          "output_type": "stream",
          "text": [
            "[[5]\n",
            " [5]]\n"
          ],
          "name": "stdout"
        }
      ]
    },
    {
      "cell_type": "code",
      "metadata": {
        "id": "iS7weZGF29P-",
        "colab_type": "code",
        "colab": {
          "base_uri": "https://localhost:8080/",
          "height": 286
        },
        "outputId": "8d0b3005-f65e-4e0d-8968-62a0f13f9728"
      },
      "source": [
        "graficarVectores([u.flatten(),v.flatten()], cols = [orange,blue])\n",
        "\n",
        "plt.xlim(-1,6)\n",
        "plt.ylim(-1,6)"
      ],
      "execution_count": 32,
      "outputs": [
        {
          "output_type": "execute_result",
          "data": {
            "text/plain": [
              "(-1.0, 6.0)"
            ]
          },
          "metadata": {
            "tags": []
          },
          "execution_count": 32
        },
        {
          "output_type": "display_data",
          "data": {
            "image/png": "[encoded data removed]",
            "text/plain": [
              "<Figure size 432x288 with 1 Axes>"
            ]
          },
          "metadata": {
            "tags": [],
            "needs_background": "light"
          }
        }
      ]
    },
    {
      "cell_type": "code",
      "metadata": {
        "id": "HLymtWvb3K4S",
        "colab_type": "code",
        "colab": {}
      },
      "source": [
        "s = np.array([[-1],[2]])\n",
        "t = X.dot(s)"
      ],
      "execution_count": 0,
      "outputs": []
    },
    {
      "cell_type": "code",
      "metadata": {
        "id": "nVcAWKPw3o6-",
        "colab_type": "code",
        "colab": {
          "base_uri": "https://localhost:8080/",
          "height": 286
        },
        "outputId": "5dd02f20-26e1-4227-918c-a14a66622ddd"
      },
      "source": [
        "graficarVectores([t.flatten(),s.flatten()], cols = [orange,blue])\n",
        "\n",
        "plt.xlim(-3,3)\n",
        "plt.ylim(-3,3)"
      ],
      "execution_count": 36,
      "outputs": [
        {
          "output_type": "execute_result",
          "data": {
            "text/plain": [
              "(-3.0, 3.0)"
            ]
          },
          "metadata": {
            "tags": []
          },
          "execution_count": 36
        },
        {
          "output_type": "display_data",
          "data": {
            "image/png": "[encoded data removed]",
            "text/plain": [
              "<Figure size 432x288 with 1 Axes>"
            ]
          },
          "metadata": {
            "tags": [],
            "needs_background": "light"
          }
        }
      ]
    },
    {
      "cell_type": "markdown",
      "metadata": {
        "id": "dFeevSbN4cej",
        "colab_type": "text"
      },
      "source": [
        "## Calculo de eigenvalores y eigenvectores"
      ]
    },
    {
      "cell_type": "code",
      "metadata": {
        "id": "6PhqcPS-3zuV",
        "colab_type": "code",
        "colab": {}
      },
      "source": [
        "X = np.array([[3,2],[4,1]])"
      ],
      "execution_count": 0,
      "outputs": []
    },
    {
      "cell_type": "code",
      "metadata": {
        "id": "-YzSNQ2e4mvN",
        "colab_type": "code",
        "colab": {
          "base_uri": "https://localhost:8080/",
          "height": 51
        },
        "outputId": "0ff249f1-7f9c-445e-cea2-36cc6188ce2c"
      },
      "source": [
        "print(np.linalg.eig(X))"
      ],
      "execution_count": 39,
      "outputs": [
        {
          "output_type": "stream",
          "text": [
            "(array([ 5., -1.]), array([[ 0.70710678, -0.4472136 ],\n",
            "       [ 0.70710678,  0.89442719]]))\n"
          ],
          "name": "stdout"
        }
      ]
    },
    {
      "cell_type": "code",
      "metadata": {
        "id": "VsK_sTOA4rP1",
        "colab_type": "code",
        "colab": {}
      },
      "source": [
        "autovalores, autovectores = np.linalg.eig(X)"
      ],
      "execution_count": 0,
      "outputs": []
    },
    {
      "cell_type": "code",
      "metadata": {
        "id": "rF_Cl5hK48dK",
        "colab_type": "code",
        "colab": {
          "base_uri": "https://localhost:8080/",
          "height": 34
        },
        "outputId": "0c92b88a-ea84-4ad7-cfd7-c5889906b690"
      },
      "source": [
        "print(autovectores[:,0])"
      ],
      "execution_count": 41,
      "outputs": [
        {
          "output_type": "stream",
          "text": [
            "[0.70710678 0.70710678]\n"
          ],
          "name": "stdout"
        }
      ]
    },
    {
      "cell_type": "code",
      "metadata": {
        "id": "Qnufzf2O5Du7",
        "colab_type": "code",
        "colab": {
          "base_uri": "https://localhost:8080/",
          "height": 34
        },
        "outputId": "1cc9567f-c180-489d-9e25-fd64961c752e"
      },
      "source": [
        "print(autovectores[:,1])"
      ],
      "execution_count": 42,
      "outputs": [
        {
          "output_type": "stream",
          "text": [
            "[-0.4472136   0.89442719]\n"
          ],
          "name": "stdout"
        }
      ]
    },
    {
      "cell_type": "code",
      "metadata": {
        "id": "TK7WAHxa5INg",
        "colab_type": "code",
        "colab": {}
      },
      "source": [
        "v = np.array([[-1],[2]])\n",
        "\n",
        "Xv = X.dot(v)\n",
        "\n",
        "v_np = autovectores[:,1]"
      ],
      "execution_count": 0,
      "outputs": []
    },
    {
      "cell_type": "code",
      "metadata": {
        "id": "8PM9-yiE5g4-",
        "colab_type": "code",
        "colab": {
          "base_uri": "https://localhost:8080/",
          "height": 286
        },
        "outputId": "21088d67-f344-4863-faa1-fb99ac53e47b"
      },
      "source": [
        "graficarVectores([Xv.flatten(), v.flatten(), v_np], cols = ['green','orange','blue'])\n",
        "\n",
        "plt.ylim(-4,2)\n",
        "plt.xlim(-7,3)"
      ],
      "execution_count": 47,
      "outputs": [
        {
          "output_type": "execute_result",
          "data": {
            "text/plain": [
              "(-7.0, 3.0)"
            ]
          },
          "metadata": {
            "tags": []
          },
          "execution_count": 47
        },
        {
          "output_type": "display_data",
          "data": {
            "image/png": "[encoded data removed]",
            "text/plain": [
              "<Figure size 432x288 with 1 Axes>"
            ]
          },
          "metadata": {
            "tags": [],
            "needs_background": "light"
          }
        }
      ]
    },
    {
      "cell_type": "markdown",
      "metadata": {
        "id": "uT_bV8ea6cm3",
        "colab_type": "text"
      },
      "source": [
        "# Descomposicion de matrices\n",
        "_______________________________________________________"
      ]
    },
    {
      "cell_type": "code",
      "metadata": {
        "id": "udXcHYW85zru",
        "colab_type": "code",
        "colab": {}
      },
      "source": [
        "A = np.array([[3,2],[4,1]])"
      ],
      "execution_count": 0,
      "outputs": []
    },
    {
      "cell_type": "code",
      "metadata": {
        "id": "d0boCymp65Iz",
        "colab_type": "code",
        "colab": {}
      },
      "source": [
        "autovalores, autovectores = np.linalg.eig(A)"
      ],
      "execution_count": 0,
      "outputs": []
    },
    {
      "cell_type": "code",
      "metadata": {
        "id": "5-6Kswbi7AeD",
        "colab_type": "code",
        "colab": {}
      },
      "source": [
        "A_cal = autovectores.dot(np.diag(autovalores)).dot(np.linalg.inv(autovectores))"
      ],
      "execution_count": 0,
      "outputs": []
    },
    {
      "cell_type": "code",
      "metadata": {
        "id": "KZgvTtvr7YzG",
        "colab_type": "code",
        "colab": {
          "base_uri": "https://localhost:8080/",
          "height": 68
        },
        "outputId": "2df33b2a-ffc1-4c37-8da2-42d22c9d634a"
      },
      "source": [
        "print(A_cal,\"   \", A)"
      ],
      "execution_count": 53,
      "outputs": [
        {
          "output_type": "stream",
          "text": [
            "[[3. 2.]\n",
            " [4. 1.]]     [[3 2]\n",
            " [4 1]]\n"
          ],
          "name": "stdout"
        }
      ]
    },
    {
      "cell_type": "code",
      "metadata": {
        "id": "Q663uL817eyK",
        "colab_type": "code",
        "colab": {
          "base_uri": "https://localhost:8080/",
          "height": 51
        },
        "outputId": "e5dbc746-d3dd-4cb5-8e1e-ee4a457bd856"
      },
      "source": [
        "A = np.array([[3,2],[2,3]])\n",
        "print(A)"
      ],
      "execution_count": 57,
      "outputs": [
        {
          "output_type": "stream",
          "text": [
            "[[3 2]\n",
            " [2 3]]\n"
          ],
          "name": "stdout"
        }
      ]
    },
    {
      "cell_type": "code",
      "metadata": {
        "id": "VIOS1QnG7s2_",
        "colab_type": "code",
        "colab": {
          "base_uri": "https://localhost:8080/",
          "height": 51
        },
        "outputId": "64c79dd5-5340-4eb8-afd2-78c9344cc32a"
      },
      "source": [
        "print(A == A.T)"
      ],
      "execution_count": 58,
      "outputs": [
        {
          "output_type": "stream",
          "text": [
            "[[ True  True]\n",
            " [ True  True]]\n"
          ],
          "name": "stdout"
        }
      ]
    },
    {
      "cell_type": "code",
      "metadata": {
        "id": "atqsNMoR7y98",
        "colab_type": "code",
        "colab": {
          "base_uri": "https://localhost:8080/",
          "height": 68
        },
        "outputId": "c1f186b0-34c7-432a-b4f4-fd99f7b281a8"
      },
      "source": [
        "autovalores, autovectores = np.linalg.eig(A)\n",
        "print(autovalores)\n",
        "print(autovectores)"
      ],
      "execution_count": 59,
      "outputs": [
        {
          "output_type": "stream",
          "text": [
            "[5. 1.]\n",
            "[[ 0.70710678 -0.70710678]\n",
            " [ 0.70710678  0.70710678]]\n"
          ],
          "name": "stdout"
        }
      ]
    },
    {
      "cell_type": "code",
      "metadata": {
        "id": "8m3tvPBt79Ey",
        "colab_type": "code",
        "colab": {
          "base_uri": "https://localhost:8080/",
          "height": 51
        },
        "outputId": "c6d5245c-7290-4020-b820-f61e6490c66e"
      },
      "source": [
        "A_cal = autovectores.dot(np.diag(autovalores)).dot(autovectores.T)\n",
        "print(A_cal)"
      ],
      "execution_count": 62,
      "outputs": [
        {
          "output_type": "stream",
          "text": [
            "[[3. 2.]\n",
            " [2. 3.]]\n"
          ],
          "name": "stdout"
        }
      ]
    },
    {
      "cell_type": "markdown",
      "metadata": {
        "id": "I0Lp94l68pJv",
        "colab_type": "text"
      },
      "source": [
        "## Descomponer matrices no cuadradas\n",
        "_________________________________________________________________"
      ]
    },
    {
      "cell_type": "code",
      "metadata": {
        "id": "v2BSjOC78fHT",
        "colab_type": "code",
        "colab": {}
      },
      "source": [
        "A = np.array([[1,2,3],[3,4,5]])"
      ],
      "execution_count": 0,
      "outputs": []
    },
    {
      "cell_type": "code",
      "metadata": {
        "id": "3w8CiCTk-dlt",
        "colab_type": "code",
        "colab": {}
      },
      "source": [
        "U, D, V = np.linalg.svd(A)"
      ],
      "execution_count": 0,
      "outputs": []
    },
    {
      "cell_type": "code",
      "metadata": {
        "id": "ZUE5yH0W-j6s",
        "colab_type": "code",
        "colab": {
          "base_uri": "https://localhost:8080/",
          "height": 51
        },
        "outputId": "7e7c2bf7-4855-42a0-b61f-c041c45fd1f8"
      },
      "source": [
        "print(U)"
      ],
      "execution_count": 66,
      "outputs": [
        {
          "output_type": "stream",
          "text": [
            "[[-0.46410668 -0.88577931]\n",
            " [-0.88577931  0.46410668]]\n"
          ],
          "name": "stdout"
        }
      ]
    },
    {
      "cell_type": "code",
      "metadata": {
        "id": "ecEAFiDP-mgJ",
        "colab_type": "code",
        "colab": {
          "base_uri": "https://localhost:8080/",
          "height": 51
        },
        "outputId": "811248ee-0b5f-4e6c-f7b0-fb7231810c32"
      },
      "source": [
        "print(np.diag(D))"
      ],
      "execution_count": 69,
      "outputs": [
        {
          "output_type": "stream",
          "text": [
            "[[7.97638869 0.        ]\n",
            " [0.         0.61418515]]\n"
          ],
          "name": "stdout"
        }
      ]
    },
    {
      "cell_type": "code",
      "metadata": {
        "id": "sLOLKJA8-oaP",
        "colab_type": "code",
        "colab": {
          "base_uri": "https://localhost:8080/",
          "height": 68
        },
        "outputId": "d131a23b-5a36-4edb-d2f3-5b0b41b18f88"
      },
      "source": [
        "print(V)"
      ],
      "execution_count": 68,
      "outputs": [
        {
          "output_type": "stream",
          "text": [
            "[[-0.39133557 -0.5605708  -0.72980603]\n",
            " [ 0.8247362   0.13817999 -0.54837623]\n",
            " [ 0.40824829 -0.81649658  0.40824829]]\n"
          ],
          "name": "stdout"
        }
      ]
    },
    {
      "cell_type": "code",
      "metadata": {
        "id": "2wwJQF1Q-pOH",
        "colab_type": "code",
        "colab": {
          "base_uri": "https://localhost:8080/",
          "height": 163
        },
        "outputId": "bcfe9f20-6f27-4e2c-bde1-4cdf30dc8aa2"
      },
      "source": [
        "A_cal = U.dot(np.diag(D)).dot(V)"
      ],
      "execution_count": 70,
      "outputs": [
        {
          "output_type": "error",
          "ename": "ValueError",
          "evalue": "ignored",
          "traceback": [
            "\u001b[0;31m---------------------------------------------------------------------------\u001b[0m",
            "\u001b[0;31mValueError\u001b[0m                                Traceback (most recent call last)",
            "\u001b[0;32m<ipython-input-70-8d23937d871b>\u001b[0m in \u001b[0;36m<module>\u001b[0;34m()\u001b[0m\n\u001b[0;32m----> 1\u001b[0;31m \u001b[0mA_cal\u001b[0m \u001b[0;34m=\u001b[0m \u001b[0mU\u001b[0m\u001b[0;34m.\u001b[0m\u001b[0mdot\u001b[0m\u001b[0;34m(\u001b[0m\u001b[0mnp\u001b[0m\u001b[0;34m.\u001b[0m\u001b[0mdiag\u001b[0m\u001b[0;34m(\u001b[0m\u001b[0mD\u001b[0m\u001b[0;34m)\u001b[0m\u001b[0;34m)\u001b[0m\u001b[0;34m.\u001b[0m\u001b[0mdot\u001b[0m\u001b[0;34m(\u001b[0m\u001b[0mV\u001b[0m\u001b[0;34m)\u001b[0m\u001b[0;34m\u001b[0m\u001b[0;34m\u001b[0m\u001b[0m\n\u001b[0m",
            "\u001b[0;31mValueError\u001b[0m: shapes (2,2) and (3,3) not aligned: 2 (dim 1) != 3 (dim 0)"
          ]
        }
      ]
    },
    {
      "cell_type": "code",
      "metadata": {
        "id": "eqnAGJ4F_SV2",
        "colab_type": "code",
        "colab": {
          "base_uri": "https://localhost:8080/",
          "height": 51
        },
        "outputId": "71a5eceb-2158-40da-eab3-9ed04d7e229c"
      },
      "source": [
        "A"
      ],
      "execution_count": 71,
      "outputs": [
        {
          "output_type": "execute_result",
          "data": {
            "text/plain": [
              "array([[1, 2, 3],\n",
              "       [3, 4, 5]])"
            ]
          },
          "metadata": {
            "tags": []
          },
          "execution_count": 71
        }
      ]
    },
    {
      "cell_type": "markdown",
      "metadata": {
        "id": "dKV-6ehg_8fI",
        "colab_type": "text"
      },
      "source": [
        "# La tres transformaciones \n",
        "____________________________________________________"
      ]
    },
    {
      "cell_type": "code",
      "metadata": {
        "id": "0ScCWPMe_nkb",
        "colab_type": "code",
        "colab": {}
      },
      "source": [
        ""
      ],
      "execution_count": 0,
      "outputs": []
    }
  ]
}